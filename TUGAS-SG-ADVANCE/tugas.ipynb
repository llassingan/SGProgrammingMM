{
 "cells": [
  {
   "cell_type": "markdown",
   "metadata": {},
   "source": [
    "# GAME TEBAK ANGKA\n",
    "\n",
    "## Game ini akna menebak angka dalam pikiranmu hanya dalam maksimal 10 kali coba!\n",
    "<br>\n",
    "\n",
    "### Untuk menggunakannya, berikut maksud dari tiap input\n",
    "\n",
    "#### y= Ya <br>\n",
    "#### n = Tidak <br>\n",
    "#### low = lebih rendah <br>\n",
    "#### high = lebih tinggi <br>\n",
    "\n",
    "### Range angkanya adalah 1-1000"
   ]
  },
  {
   "cell_type": "code",
   "execution_count": 8,
   "metadata": {},
   "outputs": [],
   "source": [
    "def game(tries,guess,modif):\n",
    "    print(\"Apakah \",guess,\" angka rahasiamu? y/low/high\")\n",
    "    b= input()\n",
    "    while b != 'y':\n",
    "        tries = tries + 1\n",
    "        if(tries==10 or b=='y'):\n",
    "            if(b=='y'):\n",
    "                print(\"Angkanya adalah = \",guess)\n",
    "            if(tries==10):\n",
    "                print(\"Kamu bohong!\")\n",
    "                break\n",
    "        if(b==\"low\"):\n",
    "            guess = guess - modif[tries]\n",
    "        elif(b==\"high\"):\n",
    "            guess = guess + modif[tries]\n",
    "        print(\"Percobaan ke = \",tries)\n",
    "        print(\"Is \",guess,\" your number? y/low/high\")\n",
    "        b= input()\n",
    "        "
   ]
  },
  {
   "cell_type": "code",
   "execution_count": 7,
   "metadata": {},
   "outputs": [
    {
     "name": "stdout",
     "output_type": "stream",
     "text": [
      "Start new game? y/ny\n",
      "Apakah  500  angka rahasiamu? y/low/high\n",
      "low\n",
      "Percobaan ke =  1\n",
      "Is  250  your number? y/low/high\n",
      "low\n",
      "Percobaan ke =  2\n",
      "Is  125  your number? y/low/high\n",
      "low\n",
      "Percobaan ke =  3\n",
      "Is  62  your number? y/low/high\n",
      "low\n",
      "Percobaan ke =  4\n",
      "Is  30  your number? y/low/high\n",
      "low\n",
      "Percobaan ke =  5\n",
      "Is  14  your number? y/low/high\n",
      "highi\n",
      "Percobaan ke =  6\n",
      "Is  14  your number? y/low/high\n",
      "high\n",
      "Percobaan ke =  7\n",
      "Is  18  your number? y/low/high\n",
      "high\n",
      "Percobaan ke =  8\n",
      "Is  20  your number? y/low/high\n",
      "high\n",
      "Percobaan ke =  9\n",
      "Is  21  your number? y/low/high\n",
      "high\n",
      "Kamu bohong!\n",
      "Start new game? y/n = n\n",
      "\n",
      "Terima kasih telah bermain\n"
     ]
    }
   ],
   "source": [
    "a= input(\"Start new game? y/n\")\n",
    "while a=='y':\n",
    "    tries=0\n",
    "    guess=500\n",
    "    modif= [500, 250, 125, 63, 32, 16, 8, 4, 2, 1]\n",
    "    game(tries,guess,modif)\n",
    "    a= input(\"Start new game? y/n = \")\n",
    "print(\"\")\n",
    "print(\"Terima kasih telah bermain\")\n",
    "        "
   ]
  },
  {
   "cell_type": "code",
   "execution_count": null,
   "metadata": {},
   "outputs": [],
   "source": []
  }
 ],
 "metadata": {
  "kernelspec": {
   "display_name": "Python 3",
   "language": "python",
   "name": "python3"
  },
  "language_info": {
   "codemirror_mode": {
    "name": "ipython",
    "version": 3
   },
   "file_extension": ".py",
   "mimetype": "text/x-python",
   "name": "python",
   "nbconvert_exporter": "python",
   "pygments_lexer": "ipython3",
   "version": "3.7.6"
  }
 },
 "nbformat": 4,
 "nbformat_minor": 4
}
